{
  "nbformat": 4,
  "nbformat_minor": 0,
  "metadata": {
    "colab": {
      "provenance": [],
      "gpuType": "T4"
    },
    "kernelspec": {
      "name": "python3",
      "display_name": "Python 3"
    },
    "language_info": {
      "name": "python"
    },
    "accelerator": "GPU"
  },
  "cells": [
    {
      "cell_type": "markdown",
      "source": [
        "Original notebook by [justinjohn0306](https://github.com/justinjohn0306): https://colab.research.google.com/github/justinjohn0306/Wav2Lip/blob/master/Wav2Lip_simplified_v5.ipynb\n",
        "\n",
        "This Colab notebook was adapted from the version linked above. It connects to Google Drive, downloads dependencies, and uses video and audio files stored in /content/drive/MyDrive/wav2lip as parameters in the inference code."
      ],
      "metadata": {
        "id": "A1tk4oM2juG8"
      }
    },
    {
      "cell_type": "code",
      "execution_count": null,
      "metadata": {
        "id": "a-lmNnL1zscv",
        "cellView": "form"
      },
      "outputs": [],
      "source": [
        "#@title Connect to Google Drive\n",
        "#@markdown * Notebook uses files in Drive to create output\n",
        "#@markdown * This cell also installs git and clones the modded repository\n",
        "\n",
        "# allow access to Google Drive for files\n",
        "from google.colab import drive\n",
        "drive.mount('/content/drive')\n",
        "\n",
        "# install git and clone modded repository\n",
        "!apt-get install -y git\n",
        "!git clone https://github.com/justinjohn0306/Wav2Lip.git"
      ]
    },
    {
      "cell_type": "code",
      "source": [
        "#@title Install syncnet\n",
        "#@markdown * Syncnet is used to calculate LRS scores in the next code block\n",
        "\n",
        "# download syncnet to evaluate scores (next code block)\n",
        "%cd Wav2Lip/evaluation/scores_LSE/\n",
        "!git clone https://github.com/joonson/syncnet_python.git\n",
        "%cd syncnet_python/\n",
        "%pip install -r requirements.txt\n",
        "!sh download_model.sh"
      ],
      "metadata": {
        "id": "aXJStXPS0Fmr",
        "cellView": "form"
      },
      "execution_count": null,
      "outputs": []
    },
    {
      "cell_type": "code",
      "source": [
        "#@title Calculate scores in /content/drive/MyDrive/wav2lip/video_root\n",
        "#@markdown * This cell uses calculate_scores_LRS.py to calculate LRS scores using syncnet\n",
        "\n",
        "# copy files and calculate scores using calculate_scores_LRS.py\n",
        "%cd /content/Wav2Lip/evaluation/scores_LSE/\n",
        "%cp *.py syncnet_python/\n",
        "%cp *.sh syncnet_python/\n",
        "%cd syncnet_python/\n",
        "!python calculate_scores_LRS.py --data_root /content/drive/MyDrive/wav2lip/video_root/ --tmp_dir tmp_dir/"
      ],
      "metadata": {
        "id": "46q4UXH46QCi",
        "cellView": "form"
      },
      "execution_count": null,
      "outputs": []
    },
    {
      "cell_type": "code",
      "source": [
        "#@title Download checkpoint (.pth) files and install batch-face from GitHub\n",
        "#@markdown * Installs two checkpoint files for use in running the inference code\n",
        "\n",
        "# download checkpoint files from modded repository\n",
        "%cd /content/Wav2Lip/\n",
        "!wget 'https://github.com/justinjohn0306/Wav2Lip/releases/download/models/wav2lip.pth' -O 'checkpoints/wav2lip.pth'\n",
        "!wget 'https://github.com/justinjohn0306/Wav2Lip/releases/download/models/wav2lip_gan.pth' -O 'checkpoints/wav2lip_gan.pth'\n",
        "!wget 'https://github.com/justinjohn0306/Wav2Lip/releases/download/models/mobilenet.pth' -O 'checkpoints/mobilenet.pth'\n",
        "\n",
        "# install batch-face for inference code\n",
        "!pip install git+https://github.com/elliottzheng/batch-face.git@master"
      ],
      "metadata": {
        "id": "VvgPohxoGGxg",
        "cellView": "form"
      },
      "execution_count": null,
      "outputs": []
    },
    {
      "cell_type": "code",
      "source": [
        "#@title Run inference code\n",
        "#@markdown * Video and audio files found from /content/drive/MyDrive/wav2lip\n",
        "\n",
        "# run inference code\n",
        "# change --face and --audio to video and audio files in your drive\n",
        "!python inference.py --checkpoint_path \"/content/Wav2Lip/checkpoints/wav2lip_gan.pth\" --face \"/content/drive/MyDrive/wav2lip/wav2lip.mp4\" --audio \"/content/drive/MyDrive/wav2lip/wav2lip.mp3\" --pads 0 10 0 0 --resize_factor 1"
      ],
      "metadata": {
        "id": "f5T8j-6iGERD",
        "cellView": "form"
      },
      "execution_count": null,
      "outputs": []
    }
  ]
}