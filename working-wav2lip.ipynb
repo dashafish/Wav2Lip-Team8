{
 "nbformat": 4,
 "nbformat_minor": 0,
 "metadata": {
  "colab": {
   "provenance": [],
   "gpuType": "T4"
  },
  "kernelspec": {
   "name": "python3",
   "display_name": "Python 3"
  },
  "language_info": {
   "name": "python"
  },
  "accelerator": "GPU"
 },
 "cells": [
  {
   "cell_type": "code",
   "execution_count": null,
   "metadata": {
    "id": "a-lmNnL1zscv"
   },
   "outputs": [],
   "source": [
    "# allow access to Google Drive for files\n",
    "from google.colab import drive\n",
    "\n",
    "drive.mount(\"/content/drive\")\n",
    "\n",
    "# install git and clone modded repository\n",
    "!apt-get install -y git\n",
    "!git clone https://github.com/justinjohn0306/Wav2Lip.git"
   ]
  },
  {
   "cell_type": "markdown",
   "source": [],
   "metadata": {
    "id": "sBEEXwaKWzFj"
   }
  },
  {
   "cell_type": "code",
   "source": [
    "# download syncnet to evaluate scores (next code block)\n",
    "%cd Wav2Lip/evaluation/scores_LSE/\n",
    "!git clone https://github.com/joonson/syncnet_python.git\n",
    "%cd syncnet_python/\n",
    "%pip install -r requirements.txt\n",
    "!sh download_model.sh"
   ],
   "metadata": {
    "id": "aXJStXPS0Fmr"
   },
   "execution_count": null,
   "outputs": []
  },
  {
   "cell_type": "code",
   "source": [
    "# copy files and calculate scores using calculate_scores_LRS.py\n",
    "%cd /content/Wav2Lip/evaluation/scores_LSE/\n",
    "%cp *.py syncnet_python/\n",
    "%cp *.sh syncnet_python/\n",
    "%cd syncnet_python/\n",
    "!python calculate_scores_LRS.py --data_root /content/drive/MyDrive/wav2lip/video_root/ --tmp_dir tmp_dir/"
   ],
   "metadata": {
    "id": "46q4UXH46QCi"
   },
   "execution_count": null,
   "outputs": []
  },
  {
   "cell_type": "code",
   "source": [
    "# download checkpoint files from modded repository\n",
    "%cd /content/Wav2Lip/\n",
    "!wget 'https://github.com/justinjohn0306/Wav2Lip/releases/download/models/wav2lip.pth' -O 'checkpoints/wav2lip.pth'\n",
    "!wget 'https://github.com/justinjohn0306/Wav2Lip/releases/download/models/wav2lip_gan.pth' -O 'checkpoints/wav2lip_gan.pth'\n",
    "!wget 'https://github.com/justinjohn0306/Wav2Lip/releases/download/models/mobilenet.pth' -O 'checkpoints/mobilenet.pth'\n",
    "\n",
    "# install batch-face for inference code\n",
    "!pip install git+https://github.com/elliottzheng/batch-face.git@master"
   ],
   "metadata": {
    "id": "VvgPohxoGGxg"
   },
   "execution_count": null,
   "outputs": []
  },
  {
   "cell_type": "code",
   "source": [
    "# run inference code\n",
    "# change --face and --audio to video and audio files in your drive\n",
    "!python inference.py --checkpoint_path \"/content/Wav2Lip/checkpoints/wav2lip_gan.pth\" --face \"/content/drive/MyDrive/wav2lip/wav2lip.mp4\" --audio \"/content/drive/MyDrive/wav2lip/wav2lip.mp3\" --pads 0 10 0 0 --resize_factor 1"
   ],
   "metadata": {
    "id": "f5T8j-6iGERD"
   },
   "execution_count": null,
   "outputs": []
  }
 ]
}